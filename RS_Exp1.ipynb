{
  "nbformat": 4,
  "nbformat_minor": 0,
  "metadata": {
    "colab": {
      "provenance": []
    },
    "kernelspec": {
      "name": "python3",
      "display_name": "Python 3"
    },
    "language_info": {
      "name": "python"
    }
  },
  "cells": [
    {
      "cell_type": "code",
      "source": [
        "import numpy as np"
      ],
      "metadata": {
        "id": "l4foq106ObVo"
      },
      "execution_count": 5,
      "outputs": []
    },
    {
      "cell_type": "markdown",
      "source": [
        "**Declaring matrices**"
      ],
      "metadata": {
        "id": "6hhyGNLKQ6zm"
      }
    },
    {
      "cell_type": "code",
      "source": [
        "mx1 = np.array([[5, 10], [15, 20]])\n",
        "mx2 = np.array([[25, 30], [35, 40]])\n",
        "\n",
        "print(\"Matrix1 =\\n\",mx1)\n",
        "print(\"\\nMatrix2 =\\n\",mx2)"
      ],
      "metadata": {
        "colab": {
          "base_uri": "https://localhost:8080/"
        },
        "id": "eQSF1i3hP1Sv",
        "outputId": "ecebf30e-fa06-47aa-d6c6-d93c5cd6a36c"
      },
      "execution_count": 6,
      "outputs": [
        {
          "output_type": "stream",
          "name": "stdout",
          "text": [
            "Matrix1 =\n",
            " [[ 5 10]\n",
            " [15 20]]\n",
            "\n",
            "Matrix2 =\n",
            " [[25 30]\n",
            " [35 40]]\n"
          ]
        }
      ]
    },
    {
      "cell_type": "markdown",
      "source": [
        "**Addition using Numpy methods**"
      ],
      "metadata": {
        "id": "CD8o3h_jQ4Ut"
      }
    },
    {
      "cell_type": "code",
      "source": [
        "print (\"\\nAddition of two matrices: \")\n",
        "print (np.add(mx1,mx2))"
      ],
      "metadata": {
        "colab": {
          "base_uri": "https://localhost:8080/"
        },
        "id": "O6pIvaUuP7N3",
        "outputId": "c7806ec2-eb07-44bd-e343-d8b4d85bdec8"
      },
      "execution_count": 7,
      "outputs": [
        {
          "output_type": "stream",
          "name": "stdout",
          "text": [
            "\n",
            "Addition of two matrices: \n",
            "[[30 40]\n",
            " [50 60]]\n"
          ]
        }
      ]
    },
    {
      "cell_type": "markdown",
      "source": [
        "**Subtraction using Numpy methods**"
      ],
      "metadata": {
        "id": "KA_LYFnzQ0r-"
      }
    },
    {
      "cell_type": "code",
      "source": [
        "print (\"\\nSubtraction of two matrices: \")\n",
        "print (np.subtract(mx1,mx2))"
      ],
      "metadata": {
        "colab": {
          "base_uri": "https://localhost:8080/"
        },
        "id": "KLKU29h3P88-",
        "outputId": "5ee41554-1ee8-42b1-b5d8-11e776b73cea"
      },
      "execution_count": 8,
      "outputs": [
        {
          "output_type": "stream",
          "name": "stdout",
          "text": [
            "\n",
            "Subtraction of two matrices: \n",
            "[[-20 -20]\n",
            " [-20 -20]]\n"
          ]
        }
      ]
    },
    {
      "cell_type": "markdown",
      "source": [
        "**Division using Numpy methods**"
      ],
      "metadata": {
        "id": "Y9IpQYp3QxsF"
      }
    },
    {
      "cell_type": "code",
      "source": [
        "print (\"\\nMatrix Division: \")\n",
        "print (np.divide(mx1,mx2))"
      ],
      "metadata": {
        "colab": {
          "base_uri": "https://localhost:8080/"
        },
        "id": "p5TLAABSP_D2",
        "outputId": "01288022-381b-42e7-aff5-5ce3608ba33c"
      },
      "execution_count": 9,
      "outputs": [
        {
          "output_type": "stream",
          "name": "stdout",
          "text": [
            "\n",
            "Matrix Division: \n",
            "[[0.2        0.33333333]\n",
            " [0.42857143 0.5       ]]\n"
          ]
        }
      ]
    },
    {
      "cell_type": "markdown",
      "source": [
        "**Multiplication using Numpy methods**"
      ],
      "metadata": {
        "id": "nErhcuQ0Qute"
      }
    },
    {
      "cell_type": "code",
      "source": [
        "print (\"\\nMultiplication of two matrices: \")\n",
        "print (np.multiply(mx1,mx2))"
      ],
      "metadata": {
        "colab": {
          "base_uri": "https://localhost:8080/"
        },
        "id": "R288FaDJQA22",
        "outputId": "27609a78-bd18-402b-bf63-d5f029536192"
      },
      "execution_count": 10,
      "outputs": [
        {
          "output_type": "stream",
          "name": "stdout",
          "text": [
            "\n",
            "Multiplication of two matrices: \n",
            "[[125 300]\n",
            " [525 800]]\n"
          ]
        }
      ]
    },
    {
      "cell_type": "markdown",
      "source": [
        "**Optimized methods of multiplication**"
      ],
      "metadata": {
        "id": "UqAtLqVtQkpn"
      }
    },
    {
      "cell_type": "code",
      "source": [
        "mx1 @ mx2"
      ],
      "metadata": {
        "colab": {
          "base_uri": "https://localhost:8080/"
        },
        "id": "Wgh__YSXQDeu",
        "outputId": "1c1ad7e1-8ebc-420b-8b81-769c5b614a5a"
      },
      "execution_count": 11,
      "outputs": [
        {
          "output_type": "execute_result",
          "data": {
            "text/plain": [
              "array([[ 475,  550],\n",
              "       [1075, 1250]])"
            ]
          },
          "metadata": {},
          "execution_count": 11
        }
      ]
    },
    {
      "cell_type": "code",
      "source": [
        "np.matmul (mx1, mx2)"
      ],
      "metadata": {
        "colab": {
          "base_uri": "https://localhost:8080/"
        },
        "id": "ZzadwW5aQEfe",
        "outputId": "ef92c0da-10ff-4b32-cd53-de6bf90355dd"
      },
      "execution_count": 12,
      "outputs": [
        {
          "output_type": "execute_result",
          "data": {
            "text/plain": [
              "array([[ 475,  550],\n",
              "       [1075, 1250]])"
            ]
          },
          "metadata": {},
          "execution_count": 12
        }
      ]
    },
    {
      "cell_type": "code",
      "source": [
        "np.dot (mx1, mx2)"
      ],
      "metadata": {
        "colab": {
          "base_uri": "https://localhost:8080/"
        },
        "id": "B8TCWe1XQFlm",
        "outputId": "1b3292c8-0f4f-4085-9086-e8c24604fa7b"
      },
      "execution_count": 13,
      "outputs": [
        {
          "output_type": "execute_result",
          "data": {
            "text/plain": [
              "array([[ 475,  550],\n",
              "       [1075, 1250]])"
            ]
          },
          "metadata": {},
          "execution_count": 13
        }
      ]
    },
    {
      "cell_type": "markdown",
      "source": [
        "**Summation of Matrix**"
      ],
      "metadata": {
        "id": "OaCTnbjPQigA"
      }
    },
    {
      "cell_type": "code",
      "source": [
        "mx = np.array([[5, 10], [15, 20]])\n",
        "\n",
        "print(\"Matrix =\\n\",mx)\n",
        "\n",
        "print (\"\\nThe summation of elements=\")\n",
        "print (np.sum(mx))\n",
        "\n",
        "print (\"\\nThe column wise summation=\")\n",
        "print (np.sum(mx,axis=0))\n",
        "\n",
        "print (\"\\nThe row wise summation=\")\n",
        "print (np.sum(mx,axis=1))"
      ],
      "metadata": {
        "colab": {
          "base_uri": "https://localhost:8080/"
        },
        "id": "lo-3MdYcQIUO",
        "outputId": "dfc20c63-4dcb-4fc9-c270-dcad28ca05e0"
      },
      "execution_count": 14,
      "outputs": [
        {
          "output_type": "stream",
          "name": "stdout",
          "text": [
            "Matrix =\n",
            " [[ 5 10]\n",
            " [15 20]]\n",
            "\n",
            "The summation of elements=\n",
            "50\n",
            "\n",
            "The column wise summation=\n",
            "[20 30]\n",
            "\n",
            "The row wise summation=\n",
            "[15 35]\n"
          ]
        }
      ]
    },
    {
      "cell_type": "markdown",
      "source": [
        "**Transpose of Matrix**"
      ],
      "metadata": {
        "id": "TeAm3EZQQarP"
      }
    },
    {
      "cell_type": "code",
      "source": [
        "mx = np.array([[5, 10], [15, 20]])\n",
        "\n",
        "print(\"Matrix =\\n\",mx)\n",
        "\n",
        "print (\"\\nThe Transpose =\")\n",
        "print (mx.T)"
      ],
      "metadata": {
        "colab": {
          "base_uri": "https://localhost:8080/"
        },
        "id": "q5ydfeNLQKLf",
        "outputId": "4fad8c5d-ac2a-4c8c-a2e0-08a4e34de1a9"
      },
      "execution_count": 15,
      "outputs": [
        {
          "output_type": "stream",
          "name": "stdout",
          "text": [
            "Matrix =\n",
            " [[ 5 10]\n",
            " [15 20]]\n",
            "\n",
            "The Transpose =\n",
            "[[ 5 15]\n",
            " [10 20]]\n"
          ]
        }
      ]
    },
    {
      "cell_type": "markdown",
      "source": [
        "**Numpy method is also available**"
      ],
      "metadata": {
        "id": "lhLXDX8wQWdP"
      }
    },
    {
      "cell_type": "code",
      "source": [
        "np.transpose (mx)"
      ],
      "metadata": {
        "colab": {
          "base_uri": "https://localhost:8080/"
        },
        "id": "Jcc48iBQQLbf",
        "outputId": "ac1c2195-60e8-4c59-9914-1554f9d9c266"
      },
      "execution_count": 16,
      "outputs": [
        {
          "output_type": "execute_result",
          "data": {
            "text/plain": [
              "array([[ 5, 15],\n",
              "       [10, 20]])"
            ]
          },
          "metadata": {},
          "execution_count": 16
        }
      ]
    },
    {
      "cell_type": "markdown",
      "source": [
        "**Inverse of a matrix**"
      ],
      "metadata": {
        "id": "OuubgjtfQORX"
      }
    },
    {
      "cell_type": "code",
      "source": [
        "np.linalg.inv (mx)"
      ],
      "metadata": {
        "colab": {
          "base_uri": "https://localhost:8080/"
        },
        "id": "edoseoFrQNFW",
        "outputId": "63f7da79-8352-4632-f681-7ed34a369098"
      },
      "execution_count": 17,
      "outputs": [
        {
          "output_type": "execute_result",
          "data": {
            "text/plain": [
              "array([[-0.4,  0.2],\n",
              "       [ 0.3, -0.1]])"
            ]
          },
          "metadata": {},
          "execution_count": 17
        }
      ]
    }
  ]
}